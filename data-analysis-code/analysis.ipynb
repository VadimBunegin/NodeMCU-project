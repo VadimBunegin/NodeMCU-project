{
  "cells": [
    {
      "cell_type": "code",
      "execution_count": null,
      "metadata": {
        "colab": {
          "base_uri": "https://localhost:8080/",
          "height": 74
        },
        "id": "uhIGC3u49J1o",
        "outputId": "9a5166d3-79f6-45da-a8a8-ac8d86d23001"
      },
      "outputs": [
        {
          "data": {
            "text/html": [
              "\n",
              "     <input type=\"file\" id=\"files-63497ea8-3b2c-4a1f-96d4-1fc67e4fdab5\" name=\"files[]\" multiple disabled\n",
              "        style=\"border:none\" />\n",
              "     <output id=\"result-63497ea8-3b2c-4a1f-96d4-1fc67e4fdab5\">\n",
              "      Upload widget is only available when the cell has been executed in the\n",
              "      current browser session. Please rerun this cell to enable.\n",
              "      </output>\n",
              "      <script>// Copyright 2017 Google LLC\n",
              "//\n",
              "// Licensed under the Apache License, Version 2.0 (the \"License\");\n",
              "// you may not use this file except in compliance with the License.\n",
              "// You may obtain a copy of the License at\n",
              "//\n",
              "//      http://www.apache.org/licenses/LICENSE-2.0\n",
              "//\n",
              "// Unless required by applicable law or agreed to in writing, software\n",
              "// distributed under the License is distributed on an \"AS IS\" BASIS,\n",
              "// WITHOUT WARRANTIES OR CONDITIONS OF ANY KIND, either express or implied.\n",
              "// See the License for the specific language governing permissions and\n",
              "// limitations under the License.\n",
              "\n",
              "/**\n",
              " * @fileoverview Helpers for google.colab Python module.\n",
              " */\n",
              "(function(scope) {\n",
              "function span(text, styleAttributes = {}) {\n",
              "  const element = document.createElement('span');\n",
              "  element.textContent = text;\n",
              "  for (const key of Object.keys(styleAttributes)) {\n",
              "    element.style[key] = styleAttributes[key];\n",
              "  }\n",
              "  return element;\n",
              "}\n",
              "\n",
              "// Max number of bytes which will be uploaded at a time.\n",
              "const MAX_PAYLOAD_SIZE = 100 * 1024;\n",
              "\n",
              "function _uploadFiles(inputId, outputId) {\n",
              "  const steps = uploadFilesStep(inputId, outputId);\n",
              "  const outputElement = document.getElementById(outputId);\n",
              "  // Cache steps on the outputElement to make it available for the next call\n",
              "  // to uploadFilesContinue from Python.\n",
              "  outputElement.steps = steps;\n",
              "\n",
              "  return _uploadFilesContinue(outputId);\n",
              "}\n",
              "\n",
              "// This is roughly an async generator (not supported in the browser yet),\n",
              "// where there are multiple asynchronous steps and the Python side is going\n",
              "// to poll for completion of each step.\n",
              "// This uses a Promise to block the python side on completion of each step,\n",
              "// then passes the result of the previous step as the input to the next step.\n",
              "function _uploadFilesContinue(outputId) {\n",
              "  const outputElement = document.getElementById(outputId);\n",
              "  const steps = outputElement.steps;\n",
              "\n",
              "  const next = steps.next(outputElement.lastPromiseValue);\n",
              "  return Promise.resolve(next.value.promise).then((value) => {\n",
              "    // Cache the last promise value to make it available to the next\n",
              "    // step of the generator.\n",
              "    outputElement.lastPromiseValue = value;\n",
              "    return next.value.response;\n",
              "  });\n",
              "}\n",
              "\n",
              "/**\n",
              " * Generator function which is called between each async step of the upload\n",
              " * process.\n",
              " * @param {string} inputId Element ID of the input file picker element.\n",
              " * @param {string} outputId Element ID of the output display.\n",
              " * @return {!Iterable<!Object>} Iterable of next steps.\n",
              " */\n",
              "function* uploadFilesStep(inputId, outputId) {\n",
              "  const inputElement = document.getElementById(inputId);\n",
              "  inputElement.disabled = false;\n",
              "\n",
              "  const outputElement = document.getElementById(outputId);\n",
              "  outputElement.innerHTML = '';\n",
              "\n",
              "  const pickedPromise = new Promise((resolve) => {\n",
              "    inputElement.addEventListener('change', (e) => {\n",
              "      resolve(e.target.files);\n",
              "    });\n",
              "  });\n",
              "\n",
              "  const cancel = document.createElement('button');\n",
              "  inputElement.parentElement.appendChild(cancel);\n",
              "  cancel.textContent = 'Cancel upload';\n",
              "  const cancelPromise = new Promise((resolve) => {\n",
              "    cancel.onclick = () => {\n",
              "      resolve(null);\n",
              "    };\n",
              "  });\n",
              "\n",
              "  // Wait for the user to pick the files.\n",
              "  const files = yield {\n",
              "    promise: Promise.race([pickedPromise, cancelPromise]),\n",
              "    response: {\n",
              "      action: 'starting',\n",
              "    }\n",
              "  };\n",
              "\n",
              "  cancel.remove();\n",
              "\n",
              "  // Disable the input element since further picks are not allowed.\n",
              "  inputElement.disabled = true;\n",
              "\n",
              "  if (!files) {\n",
              "    return {\n",
              "      response: {\n",
              "        action: 'complete',\n",
              "      }\n",
              "    };\n",
              "  }\n",
              "\n",
              "  for (const file of files) {\n",
              "    const li = document.createElement('li');\n",
              "    li.append(span(file.name, {fontWeight: 'bold'}));\n",
              "    li.append(span(\n",
              "        `(${file.type || 'n/a'}) - ${file.size} bytes, ` +\n",
              "        `last modified: ${\n",
              "            file.lastModifiedDate ? file.lastModifiedDate.toLocaleDateString() :\n",
              "                                    'n/a'} - `));\n",
              "    const percent = span('0% done');\n",
              "    li.appendChild(percent);\n",
              "\n",
              "    outputElement.appendChild(li);\n",
              "\n",
              "    const fileDataPromise = new Promise((resolve) => {\n",
              "      const reader = new FileReader();\n",
              "      reader.onload = (e) => {\n",
              "        resolve(e.target.result);\n",
              "      };\n",
              "      reader.readAsArrayBuffer(file);\n",
              "    });\n",
              "    // Wait for the data to be ready.\n",
              "    let fileData = yield {\n",
              "      promise: fileDataPromise,\n",
              "      response: {\n",
              "        action: 'continue',\n",
              "      }\n",
              "    };\n",
              "\n",
              "    // Use a chunked sending to avoid message size limits. See b/62115660.\n",
              "    let position = 0;\n",
              "    do {\n",
              "      const length = Math.min(fileData.byteLength - position, MAX_PAYLOAD_SIZE);\n",
              "      const chunk = new Uint8Array(fileData, position, length);\n",
              "      position += length;\n",
              "\n",
              "      const base64 = btoa(String.fromCharCode.apply(null, chunk));\n",
              "      yield {\n",
              "        response: {\n",
              "          action: 'append',\n",
              "          file: file.name,\n",
              "          data: base64,\n",
              "        },\n",
              "      };\n",
              "\n",
              "      let percentDone = fileData.byteLength === 0 ?\n",
              "          100 :\n",
              "          Math.round((position / fileData.byteLength) * 100);\n",
              "      percent.textContent = `${percentDone}% done`;\n",
              "\n",
              "    } while (position < fileData.byteLength);\n",
              "  }\n",
              "\n",
              "  // All done.\n",
              "  yield {\n",
              "    response: {\n",
              "      action: 'complete',\n",
              "    }\n",
              "  };\n",
              "}\n",
              "\n",
              "scope.google = scope.google || {};\n",
              "scope.google.colab = scope.google.colab || {};\n",
              "scope.google.colab._files = {\n",
              "  _uploadFiles,\n",
              "  _uploadFilesContinue,\n",
              "};\n",
              "})(self);\n",
              "</script> "
            ],
            "text/plain": [
              "<IPython.core.display.HTML object>"
            ]
          },
          "metadata": {},
          "output_type": "display_data"
        },
        {
          "name": "stdout",
          "output_type": "stream",
          "text": [
            "Saving Новая таблица - Лист1 - Новая таблица - Лист1.csv to Новая таблица - Лист1 - Новая таблица - Лист1.csv\n"
          ]
        }
      ],
      "source": [
        "\n",
        "from google.colab import files\n",
        " \n",
        " \n",
        "uploaded = files.upload()"
      ]
    },
    {
      "cell_type": "code",
      "execution_count": null,
      "metadata": {
        "id": "w1WYxKqGHYhQ"
      },
      "outputs": [],
      "source": [
        "week_days = [\"Понедельник\",\"Вторник\",\"Среда\",\"Четверг\",\"Пятница\",\"Суббота\",\"Воскресенье\"]"
      ]
    },
    {
      "cell_type": "code",
      "execution_count": null,
      "metadata": {
        "id": "-CcJEnBAJOXv"
      },
      "outputs": [],
      "source": []
    },
    {
      "cell_type": "code",
      "execution_count": null,
      "metadata": {
        "colab": {
          "base_uri": "https://localhost:8080/"
        },
        "id": "0DCBXRWu-I32",
        "outputId": "d2581ff5-e7c7-4064-bbae-7254972f945e"
      },
      "outputs": [
        {
          "name": "stdout",
          "output_type": "stream",
          "text": [
            "            Дата и время  День недели  Счетчик 1  Счетчик 2  Счетчик 3  \\\n",
            "0     29.09.2022 9:09:00            4        519        524        961   \n",
            "1    29.09.2022 10:09:00            4       1498       1506       2037   \n",
            "2    29.09.2022 11:09:00            4       1004        978        976   \n",
            "3    29.09.2022 12:09:00            4       2488       2590       2046   \n",
            "4    29.09.2022 13:09:00            4       1476       1493       1510   \n",
            "..                   ...          ...        ...        ...        ...   \n",
            "428  29.10.2022 17:09:00            6       2057        526        983   \n",
            "429  29.10.2022 18:09:00            6       1466       1524       1973   \n",
            "430  29.10.2022 19:09:00            6        984        980       1009   \n",
            "431  29.10.2022 20:09:00            6       2593       2534       1990   \n",
            "432  29.10.2022 21:09:00            6       1469       1560       1485   \n",
            "\n",
            "     Счетчик 4  Счетчик 5  \n",
            "0         1499        517  \n",
            "1          995       1551  \n",
            "2         2034       1008  \n",
            "3         1050       2494  \n",
            "4         2009       1492  \n",
            "..         ...        ...  \n",
            "428       2063        490  \n",
            "429       1017       1558  \n",
            "430       2017       1007  \n",
            "431       2025       2561  \n",
            "432       1521       1475  \n",
            "\n",
            "[433 rows x 7 columns]\n"
          ]
        }
      ],
      "source": [
        "\n",
        "\n",
        "import pandas as pd\n",
        "import io\n",
        " \n",
        "df = pd.read_csv(io.BytesIO(uploaded['Новая таблица - Лист1 - Новая таблица - Лист1.csv']))\n",
        "print(df)\n"
      ]
    },
    {
      "cell_type": "code",
      "execution_count": null,
      "metadata": {
        "colab": {
          "base_uri": "https://localhost:8080/"
        },
        "id": "7KhWci67HXp-",
        "outputId": "b52fd5f2-ce73-4385-f961-b45040a884f8"
      },
      "outputs": [
        {
          "data": {
            "text/plain": [
              "433"
            ]
          },
          "execution_count": 3,
          "metadata": {},
          "output_type": "execute_result"
        }
      ],
      "source": [
        "len(df)"
      ]
    },
    {
      "cell_type": "code",
      "execution_count": null,
      "metadata": {
        "colab": {
          "base_uri": "https://localhost:8080/"
        },
        "id": "1-hJ64-1JRRW",
        "outputId": "7a57bd25-655f-4da2-b0a4-0c02bf00c66c"
      },
      "outputs": [
        {
          "name": "stdout",
          "output_type": "stream",
          "text": [
            "1218.0\n"
          ]
        }
      ],
      "source": [
        "summ = 0\n",
        "arr = ['Счетчик 1','Счетчик 2','Счетчик 3','Счетчик 4','Счетчик 5']\n",
        "\n",
        "for i in range(1, 5):\n",
        "  summ += df[arr[i]].mean()\n",
        "\n",
        "print(summ // 5)\n",
        "\n",
        "\n"
      ]
    },
    {
      "cell_type": "code",
      "execution_count": null,
      "metadata": {
        "colab": {
          "base_uri": "https://localhost:8080/"
        },
        "id": "voYv1VdfKbzw",
        "outputId": "5c8d71fb-50bb-4945-b75e-d64ae3750be1"
      },
      "outputs": [
        {
          "name": "stdout",
          "output_type": "stream",
          "text": [
            "Всего: 433 \n",
            "пол литра: 24 \n",
            "литр: 136 \n",
            "полтора: 114 \n",
            "два: 102 \n",
            "два с половиной: 57\n"
          ]
        }
      ],
      "source": [
        "half = 0\n",
        "liter = 0\n",
        "one_and_half = 0\n",
        "two = 0\n",
        "two_and_half =0 \n",
        "\n",
        "\n",
        "for i in range(len(df)):\n",
        "  if df['Счетчик 1'][i] >= 400 and df['Счетчик 1'][i] <= 600:\n",
        "    half += 1\n",
        "  elif df['Счетчик 1'][i] >= 900 and df['Счетчик 1'][i] <= 1100:\n",
        "    liter += 1\n",
        "  elif df['Счетчик 1'][i] >= 1400 and df['Счетчик 1'][i] <= 1600:\n",
        "    one_and_half += 1\n",
        "  elif df['Счетчик 1'][i] >= 1900 and df['Счетчик 1'][i] <= 2100:\n",
        "    two += 1\n",
        "  elif df['Счетчик 1'][i] >= 2400 and df['Счетчик 1'][i] <= 2600:\n",
        "    two_and_half += 1\n",
        "\n",
        "print(\"Всего:\",half + liter + one_and_half + two + two_and_half, \"\\nпол литра:\", \n",
        "      half, \"\\nлитр:\", liter, \"\\nполтора:\", \n",
        "      one_and_half, \"\\nдва:\", two, \"\\nдва с половиной:\", \n",
        "      two_and_half)\n"
      ]
    },
    {
      "cell_type": "code",
      "execution_count": null,
      "metadata": {
        "colab": {
          "base_uri": "https://localhost:8080/"
        },
        "id": "0tW-nCHjMWdh",
        "outputId": "ddeed1c0-f147-47b1-87c8-4fcf8d8ec054"
      },
      "outputs": [
        {
          "name": "stdout",
          "output_type": "stream",
          "text": [
            "[88497, 84890, 88756, 105472, 107578, 108561, 86380]\n"
          ]
        }
      ],
      "source": [
        "\n",
        "arr = [0] * 7\n",
        "count = 0\n",
        "for j in range(7):\n",
        "  for i in range (len(df)):\n",
        "    if df['День недели'][i] == j + 1:\n",
        "      count += df['Счетчик 1'][i]\n",
        "\n",
        "  arr[j] = count\n",
        "  count = 0\n",
        "\n",
        "\n",
        "print(arr)\n"
      ]
    },
    {
      "cell_type": "code",
      "execution_count": null,
      "metadata": {
        "colab": {
          "base_uri": "https://localhost:8080/"
        },
        "id": "uSFn87vERxP-",
        "outputId": "8cf1e83c-1048-4bb0-eae6-b2105937b281"
      },
      "outputs": [
        {
          "name": "stdout",
          "output_type": "stream",
          "text": [
            "Понедельник: 88497 мл\n",
            "Вторник: 84890 мл\n",
            "Среда: 88756 мл\n",
            "Четверг: 105472 мл\n",
            "Пятница: 107578 мл\n",
            "Суббота: 108561 мл\n",
            "Воскресенье: 86380 мл\n"
          ]
        }
      ],
      "source": [
        "for i in range(7):\n",
        "  print(week_days[i], \": \", arr[i], \" мл\", sep=\"\" )"
      ]
    },
    {
      "cell_type": "code",
      "execution_count": null,
      "metadata": {
        "colab": {
          "base_uri": "https://localhost:8080/"
        },
        "id": "0axEqSi6pEoG",
        "outputId": "fa0162f2-8769-4bb0-ce1d-60243a7fc91d"
      },
      "outputs": [
        {
          "name": "stdout",
          "output_type": "stream",
          "text": [
            "Эталон: 12000 Реальное значение: 12118\n",
            "Эталон: 136000 Реальное значение: 136850\n",
            "Эталон: 171000 Реальное значение: 171524\n",
            "Эталон: 204000 Реальное значение: 205974\n",
            "Эталон: 142500 Реальное значение: 143668\n",
            "Общая разница: -4634\n"
          ]
        }
      ],
      "source": [
        "half2 = 0\n",
        "half2_count = 0\n",
        "\n",
        "liter2 = 0\n",
        "liter2_count = 0\n",
        "\n",
        "one_and_half2 = 0\n",
        "one_and_half2_count = 0\n",
        "\n",
        "two2 = 0\n",
        "two2_count = 0\n",
        "\n",
        "two_and_half2 = 0 \n",
        "two_and_half2_count = 0\n",
        "\n",
        "\n",
        "for i in range(len(df)):\n",
        "  if df['Счетчик 1'][i] >= 400 and df['Счетчик 1'][i] <= 600:\n",
        "    half2 += df['Счетчик 1'][i]\n",
        "    half2_count += 1\n",
        "\n",
        "  elif df['Счетчик 1'][i] >= 900 and df['Счетчик 1'][i] <= 1100:\n",
        "    liter2 += df['Счетчик 1'][i]\n",
        "    liter2_count += 1\n",
        "\n",
        "  elif df['Счетчик 1'][i] >= 1400 and df['Счетчик 1'][i] <= 1600:\n",
        "    one_and_half2 += df['Счетчик 1'][i]\n",
        "    one_and_half2_count += 1\n",
        "\n",
        "  elif df['Счетчик 1'][i] >= 1900 and df['Счетчик 1'][i] <= 2100:\n",
        "    two2 += df['Счетчик 1'][i]\n",
        "    two2_count += 1\n",
        "    \n",
        "  elif df['Счетчик 1'][i] >= 2400 and df['Счетчик 1'][i] <= 2600:\n",
        "    two_and_half2 += df['Счетчик 1'][i]\n",
        "    two_and_half2_count += 1\n",
        "\n",
        "print(\"Эталон:\", half2_count * 500, \"Реальное значение:\", half2)\n",
        "print(\"Эталон:\", liter2_count * 1000, \"Реальное значение:\", liter2)\n",
        "print(\"Эталон:\", one_and_half2_count * 1500, \"Реальное значение:\", one_and_half2)\n",
        "print(\"Эталон:\", two2_count * 2000, \"Реальное значение:\", two2)\n",
        "print(\"Эталон:\", two_and_half2_count * 2500, \"Реальное значение:\", two_and_half2)\n",
        "print(\"Общая разница:\", (half2_count * 500 - half2) + \n",
        "      (liter2_count * 1000 - liter2) + \n",
        "      (one_and_half2_count * 1500 - one_and_half2) + \n",
        "      (two2_count * 2000 - two2) + \n",
        "      (two_and_half2_count * 2500 - two_and_half2))\n",
        "\n"
      ]
    },
    {
      "cell_type": "code",
      "execution_count": null,
      "metadata": {
        "colab": {
          "base_uri": "https://localhost:8080/"
        },
        "id": "q9UGaP1_wGzY",
        "outputId": "3cb2f1a8-243e-45b3-9c31-2b30e0effc3b"
      },
      "outputs": [
        {
          "name": "stdout",
          "output_type": "stream",
          "text": [
            "665500\n"
          ]
        }
      ],
      "source": [
        "print( (half2_count * 500 + liter2_count * 1000 + one_and_half2_count * 1500 + two2_count * 2000 + two_and_half2_count * 2500))"
      ]
    },
    {
      "cell_type": "code",
      "execution_count": null,
      "metadata": {
        "colab": {
          "background_save": true
        },
        "id": "-qG7rfy6T5Rd"
      },
      "outputs": [],
      "source": [
        "a = 2\n",
        "if df['Дата и время'][a][11:13] != ':'\n",
        "  int(df['Дата и время'][a][11:13])\n",
        "else:\n",
        "  printint(df['Дата и время'][a][11:13][:2])"
      ]
    },
    {
      "cell_type": "code",
      "execution_count": null,
      "metadata": {
        "id": "9m8N5HMVUo7w"
      },
      "outputs": [],
      "source": [
        "arr2 = [0] * 14\n",
        "hour = 0\n",
        "\n",
        "for i in range(len(df)):\n",
        "  for j in range(13):\n",
        "    if df['Дата и время'][i][11:13][1] != ':':\n",
        "      arr2[(int(df['Дата и время'][i][11:13]) - 8)] += 1\n",
        "  \n",
        "\n",
        "\n",
        "    \n",
        "   \n",
        "\n",
        "      "
      ]
    }
  ],
  "metadata": {
    "colab": {
      "provenance": []
    },
    "kernelspec": {
      "display_name": "Python 3",
      "name": "python3"
    },
    "language_info": {
      "name": "python"
    }
  },
  "nbformat": 4,
  "nbformat_minor": 0
}